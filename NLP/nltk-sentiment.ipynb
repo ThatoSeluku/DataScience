{
 "cells": [
  {
   "cell_type": "markdown",
   "metadata": {},
   "source": [
    "## Python Sentiment Analysis Project with NLTK and Hugging Face Transformers:\n",
    "Author: Thato Seluku"
   ]
  },
  {
   "cell_type": "markdown",
   "metadata": {},
   "source": [
    "### Read in data:"
   ]
  },
  {
   "cell_type": "code",
   "execution_count": null,
   "metadata": {
    "execution": {
     "iopub.status.busy": "2025-03-24T07:44:25.376759Z",
     "iopub.status.idle": "2025-03-24T07:44:25.377203Z",
     "shell.execute_reply": "2025-03-24T07:44:25.377005Z"
    },
    "trusted": true
   },
   "outputs": [],
   "source": [
    "#Typical DS imports:\n",
    "import pandas as pd\n",
    "#Used for data manipulation and analysis, handling dataframes efficiently.\n",
    "import numpy as np\n",
    "#Provides support for numerical operations and handling arrays.\n",
    "import matplotlib.pyplot as plt\n",
    "#Used for creating static, interactive, and animated visualizations.\n",
    "import seaborn as sns\n",
    "#High-level interface for drawing attractive statistical graphics.\n",
    "\n",
    "plt.style.use('ggplot')\n",
    "import nltk"
   ]
  },
  {
   "cell_type": "code",
   "execution_count": null,
   "metadata": {
    "execution": {
     "iopub.status.busy": "2025-03-24T07:44:25.377929Z",
     "iopub.status.idle": "2025-03-24T07:44:25.378341Z",
     "shell.execute_reply": "2025-03-24T07:44:25.378180Z"
    },
    "trusted": true
   },
   "outputs": [],
   "source": [
    "#Read in data:\n",
    "df = pd.read_csv(\"/kaggle/input/reviews/Reviews.csv\")"
   ]
  },
  {
   "cell_type": "code",
   "execution_count": null,
   "metadata": {
    "execution": {
     "iopub.status.busy": "2025-03-24T07:44:25.378918Z",
     "iopub.status.idle": "2025-03-24T07:44:25.379346Z",
     "shell.execute_reply": "2025-03-24T07:44:25.379171Z"
    },
    "trusted": true
   },
   "outputs": [],
   "source": [
    "df.head()"
   ]
  },
  {
   "cell_type": "code",
   "execution_count": null,
   "metadata": {
    "execution": {
     "iopub.status.busy": "2025-03-24T07:44:25.380128Z",
     "iopub.status.idle": "2025-03-24T07:44:25.380519Z",
     "shell.execute_reply": "2025-03-24T07:44:25.380353Z"
    },
    "trusted": true
   },
   "outputs": [],
   "source": [
    "#View the size of the dataset\n",
    "print(df.shape)\n",
    "df = df.head(500)\n",
    "print(df.shape)"
   ]
  },
  {
   "cell_type": "markdown",
   "metadata": {},
   "source": [
    "## Do a quick Exploratory Data Analysis (EDA):"
   ]
  },
  {
   "cell_type": "code",
   "execution_count": null,
   "metadata": {
    "execution": {
     "iopub.status.busy": "2025-03-24T07:44:25.381587Z",
     "iopub.status.idle": "2025-03-24T07:44:25.382021Z",
     "shell.execute_reply": "2025-03-24T07:44:25.381815Z"
    },
    "trusted": true
   },
   "outputs": [],
   "source": [
    "# Plot a bar chart of review counts by star ratings, sorted by index, with a title and specified size.\n",
    "ax = df['Score'].value_counts().sort_index() \\\n",
    ".plot(kind='bar',\n",
    "      title='Count of reviews and stars',\n",
    "      figsize=(10,5))\n",
    "ax.set_xlabel('Review Stars')\n",
    "plt.show()\n"
   ]
  },
  {
   "cell_type": "markdown",
   "metadata": {},
   "source": [
    "### Basic NLTK:"
   ]
  },
  {
   "cell_type": "code",
   "execution_count": null,
   "metadata": {
    "execution": {
     "iopub.status.busy": "2025-03-24T07:44:25.382854Z",
     "iopub.status.idle": "2025-03-24T07:44:25.383271Z",
     "shell.execute_reply": "2025-03-24T07:44:25.383090Z"
    },
    "trusted": true
   },
   "outputs": [],
   "source": [
    "example = df['Text'][50]\n",
    "print(example)"
   ]
  },
  {
   "cell_type": "code",
   "execution_count": null,
   "metadata": {
    "execution": {
     "iopub.status.busy": "2025-03-24T07:44:25.384205Z",
     "iopub.status.idle": "2025-03-24T07:44:25.384634Z",
     "shell.execute_reply": "2025-03-24T07:44:25.384436Z"
    },
    "trusted": true
   },
   "outputs": [],
   "source": [
    "tokens = nltk.word_tokenize(example)\n",
    "tokens[:10]"
   ]
  },
  {
   "cell_type": "code",
   "execution_count": null,
   "metadata": {
    "execution": {
     "iopub.status.busy": "2025-03-24T07:44:25.385432Z",
     "iopub.status.idle": "2025-03-24T07:44:25.385828Z",
     "shell.execute_reply": "2025-03-24T07:44:25.385660Z"
    },
    "trusted": true
   },
   "outputs": [],
   "source": [
    "#Run nltk on parts of speech to analyse each word:\n",
    "tagged = nltk.pos_tag(tokens)\n",
    "tagged[:10]"
   ]
  },
  {
   "cell_type": "code",
   "execution_count": null,
   "metadata": {
    "execution": {
     "iopub.status.busy": "2025-03-24T07:44:25.386588Z",
     "iopub.status.idle": "2025-03-24T07:44:25.387024Z",
     "shell.execute_reply": "2025-03-24T07:44:25.386830Z"
    },
    "trusted": true
   },
   "outputs": [],
   "source": [
    "#Pretty print the chunked 10 chars of entities:\n",
    "entities = nltk.chunk.ne_chunk(tagged)\n",
    "entities.pprint()"
   ]
  },
  {
   "cell_type": "markdown",
   "metadata": {},
   "source": [
    "To find out what the abbreviations above mean:\n",
    "* https://www.kaggle.com/discussions/getting-started/186154"
   ]
  },
  {
   "cell_type": "markdown",
   "metadata": {
    "execution": {
     "iopub.execute_input": "2025-03-24T06:17:52.234668Z",
     "iopub.status.busy": "2025-03-24T06:17:52.234313Z",
     "iopub.status.idle": "2025-03-24T06:17:52.238620Z",
     "shell.execute_reply": "2025-03-24T06:17:52.237525Z",
     "shell.execute_reply.started": "2025-03-24T06:17:52.234643Z"
    }
   },
   "source": [
    "## Sentiment scoring using Vader:\n",
    "This is how we will get a value of either pos, neg or neutral for each word"
   ]
  },
  {
   "cell_type": "code",
   "execution_count": null,
   "metadata": {
    "execution": {
     "iopub.status.busy": "2025-03-24T07:44:25.387767Z",
     "iopub.status.idle": "2025-03-24T07:44:25.388199Z",
     "shell.execute_reply": "2025-03-24T07:44:25.388015Z"
    },
    "trusted": true
   },
   "outputs": [],
   "source": [
    "from nltk.sentiment import SentimentIntensityAnalyzer\n",
    "from tqdm.notebook import tqdm\n",
    "\n",
    "sia = SentimentIntensityAnalyzer()"
   ]
  },
  {
   "cell_type": "code",
   "execution_count": null,
   "metadata": {
    "execution": {
     "iopub.status.busy": "2025-03-24T07:44:25.389046Z",
     "iopub.status.idle": "2025-03-24T07:44:25.389428Z",
     "shell.execute_reply": "2025-03-24T07:44:25.389264Z"
    },
    "trusted": true
   },
   "outputs": [],
   "source": [
    "#Yest sentiment of a positive score: if compound is closer to 1 then sentiment is positive\n",
    "sia.polarity_scores(\"This is amazing\")"
   ]
  },
  {
   "cell_type": "code",
   "execution_count": null,
   "metadata": {
    "execution": {
     "iopub.status.busy": "2025-03-24T07:44:25.390329Z",
     "iopub.status.idle": "2025-03-24T07:44:25.390751Z",
     "shell.execute_reply": "2025-03-24T07:44:25.390577Z"
    },
    "trusted": true
   },
   "outputs": [],
   "source": [
    "#Yest sentiment of a positive score: if compound is closer to -1 then sentiment is negative\n",
    "sia.polarity_scores(\"This is terrible\")"
   ]
  },
  {
   "cell_type": "code",
   "execution_count": null,
   "metadata": {
    "execution": {
     "iopub.status.busy": "2025-03-24T07:44:25.391894Z",
     "iopub.status.idle": "2025-03-24T07:44:25.392333Z",
     "shell.execute_reply": "2025-03-24T07:44:25.392158Z"
    },
    "trusted": true
   },
   "outputs": [],
   "source": [
    "sia.polarity_scores(example)"
   ]
  },
  {
   "cell_type": "code",
   "execution_count": null,
   "metadata": {
    "execution": {
     "iopub.status.busy": "2025-03-24T07:44:25.393065Z",
     "iopub.status.idle": "2025-03-24T07:44:25.393452Z",
     "shell.execute_reply": "2025-03-24T07:44:25.393279Z"
    },
    "trusted": true
   },
   "outputs": [],
   "source": [
    "#Run polarity score on entire data set:\n",
    "#Create dictionary to store results:\n",
    "res = {}\n",
    "#loop through the entire dataset and show the progress:\n",
    "for i, row in tqdm(df.iterrows(), total=len(df)):\n",
    "    text = row['Text']\n",
    "    myid = row['Id']\n",
    "    #Everytime you run, store data in polarity score of text\n",
    "    res[myid] = sia.polarity_scores(text)\n",
    "    "
   ]
  },
  {
   "cell_type": "code",
   "execution_count": null,
   "metadata": {
    "execution": {
     "iopub.status.busy": "2025-03-24T07:44:25.394297Z",
     "iopub.status.idle": "2025-03-24T07:44:25.394726Z",
     "shell.execute_reply": "2025-03-24T07:44:25.394558Z"
    },
    "trusted": true
   },
   "outputs": [],
   "source": [
    "#View results from dictionary - Used PandasDataFrame to make it pretty:\n",
    "vaders = pd.DataFrame(res).T\n",
    "vaders= vaders.reset_index().rename(columns={'index': 'Id'})\n",
    "#Merge vaders to our original df using a left merge:\n",
    "vaders = vaders.merge(df, how='left')"
   ]
  },
  {
   "cell_type": "code",
   "execution_count": null,
   "metadata": {
    "execution": {
     "iopub.status.busy": "2025-03-24T07:44:25.395768Z",
     "iopub.status.idle": "2025-03-24T07:44:25.396217Z",
     "shell.execute_reply": "2025-03-24T07:44:25.396034Z"
    },
    "trusted": true
   },
   "outputs": [],
   "source": [
    "#Sentiment score and metadata:\n",
    "vaders.head()"
   ]
  },
  {
   "cell_type": "markdown",
   "metadata": {},
   "source": [
    "## Plot Vader results:"
   ]
  },
  {
   "cell_type": "code",
   "execution_count": null,
   "metadata": {
    "execution": {
     "iopub.status.busy": "2025-03-24T07:44:25.397157Z",
     "iopub.status.idle": "2025-03-24T07:44:25.397581Z",
     "shell.execute_reply": "2025-03-24T07:44:25.397397Z"
    },
    "trusted": true
   },
   "outputs": [],
   "source": [
    "ax = sns.barplot(data = vaders, x = 'Score', y = 'compound')\n",
    "ax.set_title(\"Ecom star review compund scores\")\n",
    "plt.show()"
   ]
  },
  {
   "cell_type": "code",
   "execution_count": null,
   "metadata": {
    "execution": {
     "iopub.status.busy": "2025-03-24T07:44:25.398246Z",
     "iopub.status.idle": "2025-03-24T07:44:25.398663Z",
     "shell.execute_reply": "2025-03-24T07:44:25.398479Z"
    },
    "trusted": true
   },
   "outputs": [],
   "source": [
    "#Plot 3 individual bar charts depicting compound score\n",
    "fig, axs = plt.subplots(1, 3, figsize=(15, 5))\n",
    "sns.barplot(data=vaders, x='Score', y='pos', ax=axs[0])\n",
    "sns.barplot(data=vaders, x='Score', y='neu', ax=axs[1])\n",
    "sns.barplot(data=vaders, x='Score', y='neg', ax=axs[2])\n",
    "axs[0].set_title('Positive')\n",
    "axs[1].set_title('Neutral')\n",
    "axs[2].set_title('Negative')\n",
    "plt.show()"
   ]
  },
  {
   "cell_type": "markdown",
   "metadata": {},
   "source": [
    "### From above:\n",
    "* It is evident that as compound score becomes more positive, the star reviews increase too\n",
    "* Neutral is mostly flat\n",
    "* Once the compound score becomes more negative, so do the star reviews\n",
    "\n",
    "This is the expected result."
   ]
  },
  {
   "cell_type": "markdown",
   "metadata": {},
   "source": [
    "# Improving model accuracy: "
   ]
  },
  {
   "cell_type": "markdown",
   "metadata": {},
   "source": [
    "Will get back with aletrnative. Roberta model gives network issues"
   ]
  },
  {
   "cell_type": "code",
   "execution_count": null,
   "metadata": {
    "execution": {
     "iopub.execute_input": "2025-03-24T08:23:06.224949Z",
     "iopub.status.busy": "2025-03-24T08:23:06.224475Z",
     "iopub.status.idle": "2025-03-24T08:23:06.229687Z",
     "shell.execute_reply": "2025-03-24T08:23:06.228440Z",
     "shell.execute_reply.started": "2025-03-24T08:23:06.224910Z"
    },
    "trusted": true
   },
   "outputs": [
    {
     "name": "stderr",
     "output_type": "stream",
     "text": [
      "c:\\Python313\\Lib\\site-packages\\tqdm\\auto.py:21: TqdmWarning: IProgress not found. Please update jupyter and ipywidgets. See https://ipywidgets.readthedocs.io/en/stable/user_install.html\n",
      "  from .autonotebook import tqdm as notebook_tqdm\n"
     ]
    }
   ],
   "source": [
    "from transformers import AutoTokenizer\n",
    "from transformers import AutoModelForSequenceClassification\n",
    "from scipy.special import softmax"
   ]
  },
  {
   "cell_type": "code",
   "execution_count": null,
   "metadata": {
    "execution": {
     "iopub.execute_input": "2025-03-24T08:23:06.637633Z",
     "iopub.status.busy": "2025-03-24T08:23:06.637198Z",
     "iopub.status.idle": "2025-03-24T08:24:10.714671Z",
     "shell.execute_reply": "2025-03-24T08:24:10.712234Z",
     "shell.execute_reply.started": "2025-03-24T08:23:06.637599Z"
    },
    "trusted": true
   },
   "outputs": [],
   "source": [
    "#Note you might encounter a network error below. Will find alternative:\n",
    "#MODEL = f\"cardiffnlp/twitter-roberta-base-sentiment\"\n",
    "#tokenizer = AutoTokenizer.from_pretrained(MODEL)\n",
    "#model = AutoModelForSequenceClassification.from_pretrained(MODEL)"
   ]
  },
  {
   "cell_type": "code",
   "execution_count": null,
   "metadata": {
    "execution": {
     "iopub.status.busy": "2025-03-24T08:24:10.715419Z",
     "iopub.status.idle": "2025-03-24T08:24:10.715792Z",
     "shell.execute_reply": "2025-03-24T08:24:10.715655Z"
    },
    "trusted": true
   },
   "outputs": [],
   "source": [
    "# Vader results on example:\n",
    "#print(example)\n",
    "#sia.polarity_scores(example)"
   ]
  },
  {
   "cell_type": "code",
   "execution_count": null,
   "metadata": {
    "execution": {
     "iopub.status.busy": "2025-03-24T08:24:10.716757Z",
     "iopub.status.idle": "2025-03-24T08:24:10.717249Z",
     "shell.execute_reply": "2025-03-24T08:24:10.717060Z"
    },
    "trusted": true
   },
   "outputs": [],
   "source": [
    "#Run for Roberta Model:\n",
    "#tokenizer(example, return_tensors='pt')"
   ]
  },
  {
   "cell_type": "code",
   "execution_count": null,
   "metadata": {},
   "outputs": [],
   "source": []
  }
 ],
 "metadata": {
  "kaggle": {
   "accelerator": "none",
   "dataSources": [
    {
     "datasetId": 6949761,
     "sourceId": 11141248,
     "sourceType": "datasetVersion"
    }
   ],
   "dockerImageVersionId": 30918,
   "isGpuEnabled": false,
   "isInternetEnabled": false,
   "language": "python",
   "sourceType": "notebook"
  },
  "kernelspec": {
   "display_name": "Python 3",
   "language": "python",
   "name": "python3"
  },
  "language_info": {
   "codemirror_mode": {
    "name": "ipython",
    "version": 3
   },
   "file_extension": ".py",
   "mimetype": "text/x-python",
   "name": "python",
   "nbconvert_exporter": "python",
   "pygments_lexer": "ipython3",
   "version": "3.13.2"
  }
 },
 "nbformat": 4,
 "nbformat_minor": 4
}
